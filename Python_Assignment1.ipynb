{
 "cells": [
  {
   "cell_type": "markdown",
   "id": "27cffb28",
   "metadata": {},
   "source": [
    "Q1. In the below elements which of them are values or an expression? eg:- values can be integer or string and expressions will be mathematical operators.\n",
    "* \n",
    "'hello'\n",
    "-87.8\n",
    "- \n",
    "/ \n",
    "+\t\n",
    "6 \n"
   ]
  },
  {
   "cell_type": "markdown",
   "id": "11f5965a",
   "metadata": {},
   "source": [
    "'hello' , -87.8, 6 are string, float , string values and *, -, /, + are expressions"
   ]
  },
  {
   "cell_type": "markdown",
   "id": "6d8c8953",
   "metadata": {},
   "source": [
    "Q2. What is the difference between string and variable?"
   ]
  },
  {
   "cell_type": "markdown",
   "id": "11f5a5b4",
   "metadata": {},
   "source": [
    "String is  data type whereas variable is a place where we can store values, info of datatypes."
   ]
  },
  {
   "cell_type": "markdown",
   "id": "047bb883",
   "metadata": {},
   "source": [
    "Q3. Describe three different data types."
   ]
  },
  {
   "cell_type": "markdown",
   "id": "996f9a35",
   "metadata": {},
   "source": [
    "1. Integer - stores whole numbers eg: 2, 3, 4\n",
    "    \n",
    "2. Float   - stores decimal point numbers eg: 2.5, 3.5, 4.5\n",
    "    \n",
    "3. String  - stores alphanumeric characters eg: str123, krati, sharma  \n",
    "    \n",
    "4. Boolean = eg: True, False "
   ]
  },
  {
   "cell_type": "markdown",
   "id": "2c28a43d",
   "metadata": {},
   "source": [
    "Q4. What is an expression made up of? What do all expressions do?"
   ]
  },
  {
   "cell_type": "markdown",
   "id": "142b8ece",
   "metadata": {},
   "source": [
    "Expression means A combination of values,operators and functions that are combined and interpreted by the compiler to create a new value.\n",
    "eg:"
   ]
  },
  {
   "cell_type": "code",
   "execution_count": 16,
   "id": "002fa4c1",
   "metadata": {},
   "outputs": [],
   "source": [
    "a = 10 "
   ]
  },
  {
   "cell_type": "code",
   "execution_count": 17,
   "id": "7dbe56d0",
   "metadata": {},
   "outputs": [],
   "source": [
    "b =12"
   ]
  },
  {
   "cell_type": "code",
   "execution_count": 18,
   "id": "2a13b3a2",
   "metadata": {},
   "outputs": [],
   "source": [
    "c = a + int(b)"
   ]
  },
  {
   "cell_type": "code",
   "execution_count": 19,
   "id": "22295985",
   "metadata": {},
   "outputs": [
    {
     "name": "stdout",
     "output_type": "stream",
     "text": [
      "22\n"
     ]
    }
   ],
   "source": [
    "print(c)"
   ]
  },
  {
   "cell_type": "markdown",
   "id": "10b16cb2",
   "metadata": {},
   "source": [
    "Q5. This assignment statements, like spam = 10. What is the difference between an expression and a statement?"
   ]
  },
  {
   "cell_type": "markdown",
   "id": "f620a001",
   "metadata": {},
   "source": [
    "expression is a combination of values and functions that are combined and interpreted by the compiler to create a new value,whereas statement doesn't return anything.\n",
    "eg:spam = 10 is a statement whereas  a = 1 + spam is an expression and giving 11 as output"
   ]
  },
  {
   "cell_type": "code",
   "execution_count": 27,
   "id": "0f2fcaa4",
   "metadata": {},
   "outputs": [],
   "source": [
    "spam = 10          "
   ]
  },
  {
   "cell_type": "code",
   "execution_count": 28,
   "id": "5e5c7922",
   "metadata": {},
   "outputs": [],
   "source": [
    " a = 1 + spam"
   ]
  },
  {
   "cell_type": "code",
   "execution_count": 29,
   "id": "94c2e854",
   "metadata": {},
   "outputs": [
    {
     "data": {
      "text/plain": [
       "11"
      ]
     },
     "execution_count": 29,
     "metadata": {},
     "output_type": "execute_result"
    }
   ],
   "source": [
    "a"
   ]
  },
  {
   "cell_type": "markdown",
   "id": "07096b59",
   "metadata": {},
   "source": [
    "Q6. After running the following code, what does the variable bacon contain?\n",
    "\n",
    "bacon = 22\n",
    "\n",
    "bacon + 1\n"
   ]
  },
  {
   "cell_type": "code",
   "execution_count": 34,
   "id": "8e760f38",
   "metadata": {},
   "outputs": [],
   "source": [
    "bacon = 22 "
   ]
  },
  {
   "cell_type": "code",
   "execution_count": 35,
   "id": "1b5c940a",
   "metadata": {},
   "outputs": [
    {
     "data": {
      "text/plain": [
       "23"
      ]
     },
     "execution_count": 35,
     "metadata": {},
     "output_type": "execute_result"
    }
   ],
   "source": [
    "bacon + 1"
   ]
  },
  {
   "cell_type": "markdown",
   "id": "61b2f4f7",
   "metadata": {},
   "source": [
    "Q7. What should the values of the following two terms be?\n",
    "\n",
    "'spam' + 'spamspam'\n",
    "\n",
    "'spam' * 3\n"
   ]
  },
  {
   "cell_type": "code",
   "execution_count": 36,
   "id": "7c221739",
   "metadata": {},
   "outputs": [
    {
     "data": {
      "text/plain": [
       "'spamspamspam'"
      ]
     },
     "execution_count": 36,
     "metadata": {},
     "output_type": "execute_result"
    }
   ],
   "source": [
    "'spam' + 'spamspam'"
   ]
  },
  {
   "cell_type": "code",
   "execution_count": 37,
   "id": "80f3a5f2",
   "metadata": {},
   "outputs": [
    {
     "data": {
      "text/plain": [
       "'spamspamspam'"
      ]
     },
     "execution_count": 37,
     "metadata": {},
     "output_type": "execute_result"
    }
   ],
   "source": [
    "'spam' * 3"
   ]
  },
  {
   "cell_type": "markdown",
   "id": "cf76f16a",
   "metadata": {},
   "source": [
    "Q8. Why is eggs a valid variable name while 100 is invalid?"
   ]
  },
  {
   "cell_type": "markdown",
   "id": "d94eddcf",
   "metadata": {},
   "source": [
    "incomplete question"
   ]
  },
  {
   "cell_type": "markdown",
   "id": "8a2127e6",
   "metadata": {},
   "source": [
    "Q9. What three functions can be used to get the integer, floating-point number, or string version of a value?\n",
    "\n",
    "int(), float(), str()\n",
    "\n",
    "eg:"
   ]
  },
  {
   "cell_type": "code",
   "execution_count": 64,
   "id": "ede20bfb",
   "metadata": {},
   "outputs": [],
   "source": [
    "a = 10"
   ]
  },
  {
   "cell_type": "code",
   "execution_count": 65,
   "id": "000131ae",
   "metadata": {},
   "outputs": [
    {
     "data": {
      "text/plain": [
       "20.0"
      ]
     },
     "execution_count": 65,
     "metadata": {},
     "output_type": "execute_result"
    }
   ],
   "source": [
    "a + float(a)"
   ]
  },
  {
   "cell_type": "code",
   "execution_count": 66,
   "id": "9372489f",
   "metadata": {},
   "outputs": [],
   "source": [
    "a = \"10\""
   ]
  },
  {
   "cell_type": "code",
   "execution_count": 67,
   "id": "755b7173",
   "metadata": {},
   "outputs": [
    {
     "data": {
      "text/plain": [
       "'1010'"
      ]
     },
     "execution_count": 67,
     "metadata": {},
     "output_type": "execute_result"
    }
   ],
   "source": [
    "a + str(a)"
   ]
  },
  {
   "cell_type": "code",
   "execution_count": 68,
   "id": "07ad7900",
   "metadata": {},
   "outputs": [],
   "source": [
    "a = 10.00"
   ]
  },
  {
   "cell_type": "code",
   "execution_count": 69,
   "id": "6b5076cc",
   "metadata": {},
   "outputs": [
    {
     "data": {
      "text/plain": [
       "20.0"
      ]
     },
     "execution_count": 69,
     "metadata": {},
     "output_type": "execute_result"
    }
   ],
   "source": [
    "a + int(a)"
   ]
  },
  {
   "cell_type": "markdown",
   "id": "bab221c2",
   "metadata": {},
   "source": [
    "Q10. Why does this expression cause an error? How can you fix it?\n",
    "\n",
    "'I have eaten ' + 99 + ' burritos.'\n"
   ]
  },
  {
   "cell_type": "code",
   "execution_count": 71,
   "id": "14fe1b07",
   "metadata": {},
   "outputs": [
    {
     "data": {
      "text/plain": [
       "'I have eaten 99 burritos.'"
      ]
     },
     "execution_count": 71,
     "metadata": {},
     "output_type": "execute_result"
    }
   ],
   "source": [
    "'I have eaten ' + str(99) + ' burritos.'"
   ]
  }
 ],
 "metadata": {
  "kernelspec": {
   "display_name": "Python 3 (ipykernel)",
   "language": "python",
   "name": "python3"
  },
  "language_info": {
   "codemirror_mode": {
    "name": "ipython",
    "version": 3
   },
   "file_extension": ".py",
   "mimetype": "text/x-python",
   "name": "python",
   "nbconvert_exporter": "python",
   "pygments_lexer": "ipython3",
   "version": "3.9.12"
  }
 },
 "nbformat": 4,
 "nbformat_minor": 5
}
