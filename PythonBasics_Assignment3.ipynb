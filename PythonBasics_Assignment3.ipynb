{
 "cells": [
  {
   "cell_type": "markdown",
   "id": "f5357fb5",
   "metadata": {},
   "source": [
    "Q1. Why are functions advantageous to have in your programs?"
   ]
  },
  {
   "cell_type": "markdown",
   "id": "b3e106b9",
   "metadata": {},
   "source": [
    " The main advantage of functions is code Reusability.Functions reduce the need for duplicate code. It makes programs shorter, easier to read, and easier to update. "
   ]
  },
  {
   "cell_type": "markdown",
   "id": "fd612e18",
   "metadata": {},
   "source": [
    "Q2. When does the code in a function run: when it's specified or when it's called?"
   ]
  },
  {
   "cell_type": "markdown",
   "id": "d1e54b83",
   "metadata": {},
   "source": [
    " The code executes when the function is called, not when the function is specified in the program."
   ]
  },
  {
   "cell_type": "markdown",
   "id": "cb77dc65",
   "metadata": {},
   "source": [
    "Q3. What statement creates a function?"
   ]
  },
  {
   "cell_type": "raw",
   "id": "e82cd9c6",
   "metadata": {},
   "source": [
    "def statement\n",
    "ex:\n",
    "def function_name(sample_parameters):\n",
    "    \n",
    "    ----- body-----\n",
    "    \n",
    "    return value"
   ]
  },
  {
   "cell_type": "markdown",
   "id": "b702528c",
   "metadata": {},
   "source": [
    "Q4. What is the difference between a function and a function call?"
   ]
  },
  {
   "cell_type": "markdown",
   "id": "d373b8ff",
   "metadata": {},
   "source": [
    " A function is procedure to achieve a particular result with reusability advantage. Using a function to do a particular task any point in program is called as function call."
   ]
  },
  {
   "cell_type": "markdown",
   "id": "06cac43b",
   "metadata": {},
   "source": [
    "Q5. How many global scopes are there in a Python program? How many local scopes?"
   ]
  },
  {
   "cell_type": "markdown",
   "id": "6066f21e",
   "metadata": {},
   "source": [
    "one global scope, and a local scope is created whenever a function is called in python programs."
   ]
  },
  {
   "cell_type": "markdown",
   "id": "c5951bb0",
   "metadata": {},
   "source": [
    "Q6. What happens to variables in a local scope when the function call returns?"
   ]
  },
  {
   "cell_type": "markdown",
   "id": "64945a34",
   "metadata": {},
   "source": [
    " When a function call returns, the local scope is destroyed all the statements with all the variables."
   ]
  },
  {
   "cell_type": "markdown",
   "id": "83f4bd96",
   "metadata": {},
   "source": [
    "Q7. What is the concept of a return value? Is it possible to have a return value in an expression?"
   ]
  },
  {
   "cell_type": "markdown",
   "id": "db747da9",
   "metadata": {},
   "source": [
    "A return value is the value that a function call evaluates or calculates to. Like any addition program, return value gives numeric value as result. Yes, a return value can be used as part of an expression."
   ]
  },
  {
   "cell_type": "markdown",
   "id": "b0e427b2",
   "metadata": {},
   "source": [
    "Q8. If a function does not have a return statement, what is the return value of a call to that function?"
   ]
  },
  {
   "cell_type": "markdown",
   "id": "81e81480",
   "metadata": {},
   "source": [
    " its return value is None type."
   ]
  },
  {
   "cell_type": "markdown",
   "id": "0b5f79a0",
   "metadata": {},
   "source": [
    "Q9. How do you make a function variable refer to the global variable?"
   ]
  },
  {
   "cell_type": "markdown",
   "id": "b8fc6a7d",
   "metadata": {},
   "source": [
    " By using the global keyword to declare which variables are global."
   ]
  },
  {
   "cell_type": "markdown",
   "id": "9427a05b",
   "metadata": {},
   "source": [
    "Q10. What is the data type of None?"
   ]
  },
  {
   "cell_type": "markdown",
   "id": "78c01b67",
   "metadata": {},
   "source": [
    "NoneType"
   ]
  },
  {
   "cell_type": "code",
   "execution_count": null,
   "id": "09387176",
   "metadata": {},
   "outputs": [],
   "source": [
    "Q11. What does the sentence import areallyourpetsnamederic do?"
   ]
  },
  {
   "cell_type": "markdown",
   "id": "2e5aaef7",
   "metadata": {},
   "source": [
    "import statement imports areallyourpetsnamederic"
   ]
  },
  {
   "cell_type": "markdown",
   "id": "5ac9ccf9",
   "metadata": {},
   "source": [
    "Q12. If you had a bacon() feature in a spam module, what would you call it after importing spam?"
   ]
  },
  {
   "cell_type": "markdown",
   "id": "e667bace",
   "metadata": {},
   "source": [
    "spam.bacon()"
   ]
  },
  {
   "cell_type": "markdown",
   "id": "7cc8a003",
   "metadata": {},
   "source": [
    "13. What can you do to save a programme from crashing if it encounters an error?"
   ]
  },
  {
   "cell_type": "markdown",
   "id": "88dd6037",
   "metadata": {},
   "source": [
    "Use Try/Except block where in Try block if code is causing error then in Except block to handle the error.  "
   ]
  },
  {
   "cell_type": "markdown",
   "id": "0601d184",
   "metadata": {},
   "source": [
    "Q14. What is the purpose of the try clause? What is the purpose of the except clause?"
   ]
  },
  {
   "cell_type": "markdown",
   "id": "985b4765",
   "metadata": {},
   "source": [
    "The code which causes an error comes into try clause block. if an error happens goes in the except clause to handle."
   ]
  }
 ],
 "metadata": {
  "kernelspec": {
   "display_name": "Python 3 (ipykernel)",
   "language": "python",
   "name": "python3"
  },
  "language_info": {
   "codemirror_mode": {
    "name": "ipython",
    "version": 3
   },
   "file_extension": ".py",
   "mimetype": "text/x-python",
   "name": "python",
   "nbconvert_exporter": "python",
   "pygments_lexer": "ipython3",
   "version": "3.9.12"
  }
 },
 "nbformat": 4,
 "nbformat_minor": 5
}
