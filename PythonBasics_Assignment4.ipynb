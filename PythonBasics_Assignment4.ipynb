{
 "cells": [
  {
   "cell_type": "markdown",
   "id": "1c89fb52",
   "metadata": {},
   "source": [
    "Q1. What exactly is []?"
   ]
  },
  {
   "cell_type": "markdown",
   "id": "21bb8ba1",
   "metadata": {},
   "source": [
    "Blank list or This empty list represented by [] is a list that contains no items."
   ]
  },
  {
   "cell_type": "markdown",
   "id": "a0f91021",
   "metadata": {},
   "source": [
    "Q2. In a list of values stored in a variable called spam, how would you assign the value 'hello' as the third value? (Assume [2, 4, 6, 8, 10] are in spam.)"
   ]
  },
  {
   "cell_type": "code",
   "execution_count": 5,
   "id": "27d11c1a",
   "metadata": {},
   "outputs": [],
   "source": [
    "spam = [2, 4, 6, 8, 10]"
   ]
  },
  {
   "cell_type": "code",
   "execution_count": 6,
   "id": "b3636a15",
   "metadata": {},
   "outputs": [
    {
     "data": {
      "text/plain": [
       "[2, 4, 6, 8, 10]"
      ]
     },
     "execution_count": 6,
     "metadata": {},
     "output_type": "execute_result"
    }
   ],
   "source": [
    "spam"
   ]
  },
  {
   "cell_type": "code",
   "execution_count": 7,
   "id": "0b1ff69b",
   "metadata": {},
   "outputs": [],
   "source": [
    "spam[2] = \"hello\""
   ]
  },
  {
   "cell_type": "code",
   "execution_count": 8,
   "id": "5d2ea117",
   "metadata": {},
   "outputs": [
    {
     "data": {
      "text/plain": [
       "[2, 4, 'hello', 8, 10]"
      ]
     },
     "execution_count": 8,
     "metadata": {},
     "output_type": "execute_result"
    }
   ],
   "source": [
    "spam"
   ]
  },
  {
   "cell_type": "markdown",
   "id": "5f9f65ac",
   "metadata": {},
   "source": [
    "Let's pretend the spam includes the list ['a', 'b', 'c', 'd'] for the next three queries.\n",
    "\n",
    "Q3. What is the value of spam[int(int('3' * 2) / 11)]?\n"
   ]
  },
  {
   "cell_type": "code",
   "execution_count": 9,
   "id": "9867a92e",
   "metadata": {},
   "outputs": [],
   "source": [
    "spam =  ['a', 'b', 'c', 'd'] "
   ]
  },
  {
   "cell_type": "code",
   "execution_count": 10,
   "id": "bb3370a3",
   "metadata": {},
   "outputs": [
    {
     "data": {
      "text/plain": [
       "'d'"
      ]
     },
     "execution_count": 10,
     "metadata": {},
     "output_type": "execute_result"
    }
   ],
   "source": [
    "spam[int(int('3' * 2) / 11)]"
   ]
  },
  {
   "cell_type": "markdown",
   "id": "1da54245",
   "metadata": {},
   "source": [
    "Q4. What is the value of spam[-1]?"
   ]
  },
  {
   "cell_type": "code",
   "execution_count": 11,
   "id": "78c54bd5",
   "metadata": {},
   "outputs": [
    {
     "data": {
      "text/plain": [
       "'d'"
      ]
     },
     "execution_count": 11,
     "metadata": {},
     "output_type": "execute_result"
    }
   ],
   "source": [
    "spam[-1]"
   ]
  },
  {
   "cell_type": "markdown",
   "id": "68cb7c36",
   "metadata": {},
   "source": [
    "Q5. What is the value of spam[:2]?"
   ]
  },
  {
   "cell_type": "code",
   "execution_count": 12,
   "id": "d69ce70a",
   "metadata": {},
   "outputs": [
    {
     "data": {
      "text/plain": [
       "['a', 'b']"
      ]
     },
     "execution_count": 12,
     "metadata": {},
     "output_type": "execute_result"
    }
   ],
   "source": [
    "spam[:2]"
   ]
  },
  {
   "cell_type": "markdown",
   "id": "8f85f616",
   "metadata": {},
   "source": [
    "Let's pretend bacon has the list [3.14, 'cat,' 11, 'cat,' True] for the next three questions.\n",
    "\n",
    "6. What is the value of bacon.index('cat')?\n"
   ]
  },
  {
   "cell_type": "code",
   "execution_count": 16,
   "id": "de9d3669",
   "metadata": {},
   "outputs": [],
   "source": [
    "bacon = [3.14, 'cat', 11, 'cat' ,True] "
   ]
  },
  {
   "cell_type": "code",
   "execution_count": 17,
   "id": "3bb5f83a",
   "metadata": {},
   "outputs": [
    {
     "data": {
      "text/plain": [
       "1"
      ]
     },
     "execution_count": 17,
     "metadata": {},
     "output_type": "execute_result"
    }
   ],
   "source": [
    "bacon.index('cat')"
   ]
  },
  {
   "cell_type": "markdown",
   "id": "abae510a",
   "metadata": {},
   "source": [
    "Q7. How does bacon.append(99) change the look of the list value in bacon?"
   ]
  },
  {
   "cell_type": "code",
   "execution_count": 18,
   "id": "975700ca",
   "metadata": {},
   "outputs": [],
   "source": [
    "bacon.append(99)"
   ]
  },
  {
   "cell_type": "code",
   "execution_count": 19,
   "id": "3a797d42",
   "metadata": {},
   "outputs": [
    {
     "data": {
      "text/plain": [
       "[3.14, 'cat', 11, 'cat', True, 99]"
      ]
     },
     "execution_count": 19,
     "metadata": {},
     "output_type": "execute_result"
    }
   ],
   "source": [
    "bacon"
   ]
  },
  {
   "cell_type": "markdown",
   "id": "a007804e",
   "metadata": {},
   "source": [
    "Q8. How does bacon.remove('cat') change the look of the list in bacon?"
   ]
  },
  {
   "cell_type": "code",
   "execution_count": 20,
   "id": "ae10faca",
   "metadata": {},
   "outputs": [],
   "source": [
    "bacon.remove('cat')"
   ]
  },
  {
   "cell_type": "code",
   "execution_count": 21,
   "id": "30429bf0",
   "metadata": {},
   "outputs": [
    {
     "data": {
      "text/plain": [
       "[3.14, 11, 'cat', True, 99]"
      ]
     },
     "execution_count": 21,
     "metadata": {},
     "output_type": "execute_result"
    }
   ],
   "source": [
    "bacon"
   ]
  },
  {
   "cell_type": "markdown",
   "id": "67d5c58e",
   "metadata": {},
   "source": [
    "Q9. What are the list concatenation and list replication operators?"
   ]
  },
  {
   "cell_type": "code",
   "execution_count": 22,
   "id": "3626fa98",
   "metadata": {},
   "outputs": [
    {
     "name": "stdout",
     "output_type": "stream",
     "text": [
      "['A', 'B', 'C', 'D', 'E', 'F', 'I', 'J', 'K']\n",
      "['F', 'I', 'J', 'K', 'F', 'I', 'J', 'K']\n"
     ]
    }
   ],
   "source": [
    "l1 = ['A','B','C','D','E']\n",
    "l2 = ['F','I','J','K']\n",
    "print(l1 + l2) \n",
    "\n",
    "print(l2*2) "
   ]
  },
  {
   "cell_type": "markdown",
   "id": "7ad431be",
   "metadata": {},
   "source": [
    "Q10. What is difference between the list methods append() and insert()?"
   ]
  },
  {
   "cell_type": "code",
   "execution_count": 23,
   "id": "f1f7d8c7",
   "metadata": {},
   "outputs": [
    {
     "data": {
      "text/plain": [
       "[3.14, 11, 'cat', True, 99]"
      ]
     },
     "execution_count": 23,
     "metadata": {},
     "output_type": "execute_result"
    }
   ],
   "source": [
    "bacon"
   ]
  },
  {
   "cell_type": "code",
   "execution_count": 24,
   "id": "41346654",
   "metadata": {},
   "outputs": [],
   "source": [
    "bacon.append(\"krati\")"
   ]
  },
  {
   "cell_type": "code",
   "execution_count": 25,
   "id": "a07b8b05",
   "metadata": {},
   "outputs": [
    {
     "data": {
      "text/plain": [
       "[3.14, 11, 'cat', True, 99, 'krati']"
      ]
     },
     "execution_count": 25,
     "metadata": {},
     "output_type": "execute_result"
    }
   ],
   "source": [
    "bacon"
   ]
  },
  {
   "cell_type": "code",
   "execution_count": 27,
   "id": "c593b994",
   "metadata": {},
   "outputs": [],
   "source": [
    "bacon.insert(0,\"sharma\")"
   ]
  },
  {
   "cell_type": "code",
   "execution_count": 28,
   "id": "0d7b9d74",
   "metadata": {},
   "outputs": [
    {
     "data": {
      "text/plain": [
       "['sharma', 3.14, 11, 'cat', True, 99, 'krati']"
      ]
     },
     "execution_count": 28,
     "metadata": {},
     "output_type": "execute_result"
    }
   ],
   "source": [
    "bacon"
   ]
  },
  {
   "cell_type": "markdown",
   "id": "5bb0b018",
   "metadata": {},
   "source": [
    "append() add values only to the end of a list,\n",
    "\n",
    "insert() can add them anywhere in the list and it requires two arguments index , value."
   ]
  },
  {
   "cell_type": "markdown",
   "id": "75991114",
   "metadata": {},
   "source": [
    "Q11 What are the two methods for removing items from a list?"
   ]
  },
  {
   "cell_type": "markdown",
   "id": "75320e54",
   "metadata": {},
   "source": [
    "remove(), del statement"
   ]
  },
  {
   "cell_type": "markdown",
   "id": "b152de72",
   "metadata": {},
   "source": [
    "Q12. Describe how list values and string values are identical."
   ]
  },
  {
   "cell_type": "markdown",
   "id": "ce67effd",
   "metadata": {},
   "source": [
    "Similarity :-\n",
    "\n",
    "List and string both are used to store value /data and both are sequence.\n",
    "\n",
    "Difference :-\n",
    "\n",
    "List are used to store many type of datatypes (string, float, integer, etc)\n",
    "string are used to store character in single or double quotes.\n",
    "list are mutable and string are immutable.\n"
   ]
  },
  {
   "cell_type": "markdown",
   "id": "095c80a2",
   "metadata": {},
   "source": [
    "13. What's the difference between tuples and lists?"
   ]
  },
  {
   "cell_type": "markdown",
   "id": "1d8b4fd2",
   "metadata": {},
   "source": [
    "Lists are Mutable, Indexable and Slicable. they can have values added, removed, or changed.lists use the square brackets, [].\n",
    "\n",
    "Tuples are Immutable but Indexable and Slicable. the tuple values cannot be changed at all.tuples are represented using parentheses ().\n",
    " "
   ]
  },
  {
   "cell_type": "markdown",
   "id": "0bec23ba",
   "metadata": {},
   "source": [
    "14. How do you type a tuple value that only contains the integer 42?"
   ]
  },
  {
   "cell_type": "code",
   "execution_count": 38,
   "id": "4dec5563",
   "metadata": {},
   "outputs": [
    {
     "name": "stdout",
     "output_type": "stream",
     "text": [
      "42\n",
      "<class 'int'>\n"
     ]
    }
   ],
   "source": [
    "t=(42)\n",
    "print(t)\n",
    "print(type(t))"
   ]
  },
  {
   "cell_type": "code",
   "execution_count": 39,
   "id": "09989cb8",
   "metadata": {},
   "outputs": [
    {
     "name": "stdout",
     "output_type": "stream",
     "text": [
      "(42,)\n",
      "<class 'tuple'>\n"
     ]
    }
   ],
   "source": [
    "t2=(42,)\n",
    "print(t2)\n",
    "print(type(t2))"
   ]
  },
  {
   "cell_type": "markdown",
   "id": "9ee41b33",
   "metadata": {},
   "source": [
    "15. How do you get a list value's tuple form? How do you get a tuple value's list form?"
   ]
  },
  {
   "cell_type": "markdown",
   "id": "f814fffb",
   "metadata": {},
   "source": [
    " The tuple() and list() functions"
   ]
  },
  {
   "cell_type": "code",
   "execution_count": 49,
   "id": "8284115f",
   "metadata": {},
   "outputs": [],
   "source": [
    "t = (1,2,3,4,5,)"
   ]
  },
  {
   "cell_type": "code",
   "execution_count": 50,
   "id": "e21eb6aa",
   "metadata": {},
   "outputs": [
    {
     "name": "stdout",
     "output_type": "stream",
     "text": [
      "<class 'tuple'>\n"
     ]
    }
   ],
   "source": [
    "t\n",
    "print(type(t))"
   ]
  },
  {
   "cell_type": "code",
   "execution_count": 51,
   "id": "7fcd8e4b",
   "metadata": {},
   "outputs": [],
   "source": [
    "l= list(t)"
   ]
  },
  {
   "cell_type": "code",
   "execution_count": 53,
   "id": "17bd8907",
   "metadata": {},
   "outputs": [
    {
     "name": "stdout",
     "output_type": "stream",
     "text": [
      "<class 'list'>\n"
     ]
    }
   ],
   "source": [
    "l\n",
    "print(type(l))"
   ]
  },
  {
   "cell_type": "markdown",
   "id": "43684d2c",
   "metadata": {},
   "source": [
    "16. Variables that \"contain\" list values are not necessarily lists themselves. Instead, what do they contain?"
   ]
  },
  {
   "cell_type": "markdown",
   "id": "761cec76",
   "metadata": {},
   "source": [
    "They contain references of list values."
   ]
  },
  {
   "cell_type": "markdown",
   "id": "325b4c94",
   "metadata": {},
   "source": [
    "17. How do you distinguish between copy.copy() and copy.deepcopy()?\n",
    "\n"
   ]
  },
  {
   "cell_type": "raw",
   "id": "0005867e",
   "metadata": {},
   "source": [
    "import copy\n",
    "\n",
    "li1 = [1, 2, [3,5], 4]\n",
    "\n",
    "# using copy for shallow copy  \n",
    "li2 = copy.copy(li1) \n",
    "  \n",
    "# using deepcopy for deepcopy  \n",
    "li3 = copy.deepcopy(li1) "
   ]
  },
  {
   "cell_type": "code",
   "execution_count": 58,
   "id": "dbb45082",
   "metadata": {},
   "outputs": [
    {
     "data": {
      "text/plain": [
       "[1, 2, [3, 5], 4]"
      ]
     },
     "execution_count": 58,
     "metadata": {},
     "output_type": "execute_result"
    }
   ],
   "source": [
    "li2"
   ]
  },
  {
   "cell_type": "code",
   "execution_count": 59,
   "id": "c4d2d6d2",
   "metadata": {},
   "outputs": [
    {
     "data": {
      "text/plain": [
       "[1, 2, [3, 5], 4]"
      ]
     },
     "execution_count": 59,
     "metadata": {},
     "output_type": "execute_result"
    }
   ],
   "source": [
    "li3"
   ]
  },
  {
   "cell_type": "markdown",
   "id": "d9061988",
   "metadata": {},
   "source": [
    "The copy.copy() function will do a shallow copy of a list. It means any changes made to a copy of object do reflect in the original object,\n",
    "\n",
    "while the copy.deepcopy() function will do a deep copy of a list. It means any changes made to a copy of object do not reflect in the original object.\n"
   ]
  }
 ],
 "metadata": {
  "kernelspec": {
   "display_name": "Python 3 (ipykernel)",
   "language": "python",
   "name": "python3"
  },
  "language_info": {
   "codemirror_mode": {
    "name": "ipython",
    "version": 3
   },
   "file_extension": ".py",
   "mimetype": "text/x-python",
   "name": "python",
   "nbconvert_exporter": "python",
   "pygments_lexer": "ipython3",
   "version": "3.9.12"
  }
 },
 "nbformat": 4,
 "nbformat_minor": 5
}
